{
 "cells": [
  {
   "cell_type": "markdown",
   "metadata": {},
   "source": [
    "Before you turn this problem in, make sure everything runs as expected. First, **restart the kernel** (in the menubar, select Kernel$\\rightarrow$Restart) and then **run all cells** (in the menubar, select Cell$\\rightarrow$Run All).\n",
    "\n",
    "Make sure you fill in any place that says `YOUR CODE HERE` or \"YOUR ANSWER HERE\", as well as your name and collaborators below:"
   ]
  },
  {
   "cell_type": "code",
   "execution_count": 1,
   "metadata": {},
   "outputs": [],
   "source": [
    "NAME = \"Mirte Hanssen #2008317#\"\n",
    "COLLABORATORS = \"\""
   ]
  },
  {
   "cell_type": "markdown",
   "metadata": {},
   "source": [
    "---"
   ]
  },
  {
   "cell_type": "markdown",
   "metadata": {
    "deletable": false,
    "editable": false,
    "nbgrader": {
     "checksum": "e53eb7da4b90cccdbeb5924177a0d295",
     "grade": false,
     "grade_id": "cell-bace731f185b39bb",
     "locked": true,
     "schema_version": 1,
     "solution": false
    }
   },
   "source": [
    "Fill in the cell above to provide us with your name and student number, like\n",
    "\n",
    "NAME = \"Adam Smith, #student number#\"\n",
    "\n",
    "where you replace \"#student number#\" with your ... (very good!)\n",
    "\n",
    "Unfortunately, you are not allowed to work with \"COLLABORATORS\" in this exam."
   ]
  },
  {
   "cell_type": "markdown",
   "metadata": {
    "deletable": false,
    "editable": false,
    "nbgrader": {
     "checksum": "54f2a7cc5a4285f9082c5f4f2ff532f6",
     "grade": false,
     "grade_id": "cell-895e9a7b94992ec9",
     "locked": true,
     "schema_version": 1,
     "solution": false
    }
   },
   "source": [
    "# exam September 21st, 2018\n",
    "\n",
    "With this python part of the exam you can earn at max. 4 points.\n",
    "\n"
   ]
  },
  {
   "cell_type": "markdown",
   "metadata": {
    "deletable": false,
    "editable": false,
    "nbgrader": {
     "checksum": "611902f9d15318425217ea7c9329d3c4",
     "grade": false,
     "grade_id": "cell-540987818af25557",
     "locked": true,
     "schema_version": 1,
     "solution": false
    }
   },
   "source": [
    "\n",
    "In the first cell of the notebook, give us your name and student number in the way indicated above. \n",
    "\n",
    "Fill in the notebook (see below for code cells and text cells that you need to fill in).\n",
    "\n",
    "If you look at the menus above (File, Edit, View etc.), there is one called \"Cell\". If you click on this, you can change the \"Cell Type\". Choose \"Code\" when you are typing python or R code. Choose \"Markdown\" when you are typing, well, markdown.\n",
    "\n",
    "When you finish the notebook, make sure that you **save it with the output of your code included**. \n",
    "\n",
    "Then put it on github, e.g. by dragging it onto github (see instructions below). \n",
    "\n",
    "Finally, add a link to your README file with the name of this exam: \"Exam September 21, 2018\".\n",
    "\n"
   ]
  },
  {
   "cell_type": "markdown",
   "metadata": {
    "deletable": false,
    "editable": false,
    "nbgrader": {
     "checksum": "fbb9342b1fc9100447270d34e2af2d0b",
     "grade": false,
     "grade_id": "cell-e1cf88cb799f1f43",
     "locked": true,
     "schema_version": 1,
     "solution": false
    }
   },
   "source": [
    "## Generating and plotting data\n",
    "\n",
    "We start by importing the usual libraries."
   ]
  },
  {
   "cell_type": "code",
   "execution_count": 11,
   "metadata": {
    "deletable": false,
    "editable": false,
    "nbgrader": {
     "checksum": "7bd770ef54db47c3b6c8d0e31f6baef6",
     "grade": false,
     "grade_id": "cell-b895769bf40e183a",
     "locked": true,
     "schema_version": 1,
     "solution": false
    }
   },
   "outputs": [],
   "source": [
    "import matplotlib.pyplot as plt\n",
    "import pandas as pd\n",
    "import numpy as np\n",
    "from scipy import optimize\n",
    "%matplotlib inline"
   ]
  },
  {
   "cell_type": "markdown",
   "metadata": {
    "deletable": false,
    "editable": false,
    "nbgrader": {
     "checksum": "1133b2e8cbde213d1adfe10ae743bcb3",
     "grade": false,
     "grade_id": "cell-83284c4090d6de8c",
     "locked": true,
     "schema_version": 1,
     "solution": false
    }
   },
   "source": [
    "#### a) [0.5 point] Explain in words what the following code does. "
   ]
  },
  {
   "cell_type": "code",
   "execution_count": 12,
   "metadata": {
    "deletable": false,
    "editable": false,
    "nbgrader": {
     "checksum": "bc85672d4250f9fa3da40069544edd8a",
     "grade": false,
     "grade_id": "cell-7770128c0a989c60",
     "locked": true,
     "schema_version": 1,
     "solution": false
    }
   },
   "outputs": [],
   "source": [
    "n_observations = 100\n",
    "x = np.random.uniform(0,2,size=n_observations)\n",
    "df = pd.DataFrame({'x': x})"
   ]
  },
  {
   "cell_type": "code",
   "execution_count": 13,
   "metadata": {},
   "outputs": [
    {
     "name": "stdout",
     "output_type": "stream",
     "text": [
      "           x\n",
      "0   0.219032\n",
      "1   0.265192\n",
      "2   0.182724\n",
      "3   0.056496\n",
      "4   0.499002\n",
      "5   0.666587\n",
      "6   0.396022\n",
      "7   1.261221\n",
      "8   1.399323\n",
      "9   1.386720\n",
      "10  1.221611\n",
      "11  1.328539\n",
      "12  0.260419\n",
      "13  1.112566\n",
      "14  1.233390\n",
      "15  0.460018\n",
      "16  0.525445\n",
      "17  1.955600\n",
      "18  1.018292\n",
      "19  1.145691\n",
      "20  0.176907\n",
      "21  0.205724\n",
      "22  1.865384\n",
      "23  0.871974\n",
      "24  1.257401\n",
      "25  0.371760\n",
      "26  0.678350\n",
      "27  1.466345\n",
      "28  1.815449\n",
      "29  1.072234\n",
      "..       ...\n",
      "70  1.346428\n",
      "71  0.588529\n",
      "72  0.629589\n",
      "73  0.557089\n",
      "74  0.321572\n",
      "75  0.333407\n",
      "76  1.182536\n",
      "77  0.139040\n",
      "78  0.244064\n",
      "79  0.948061\n",
      "80  1.743555\n",
      "81  1.566447\n",
      "82  0.973121\n",
      "83  1.038823\n",
      "84  1.731177\n",
      "85  0.352087\n",
      "86  1.980437\n",
      "87  1.822899\n",
      "88  1.842321\n",
      "89  0.939815\n",
      "90  1.340435\n",
      "91  0.109341\n",
      "92  1.346969\n",
      "93  1.649494\n",
      "94  0.779753\n",
      "95  0.763975\n",
      "96  1.670826\n",
      "97  0.745313\n",
      "98  1.017443\n",
      "99  0.247519\n",
      "\n",
      "[100 rows x 1 columns]\n"
     ]
    }
   ],
   "source": [
    "print(df)"
   ]
  },
  {
   "cell_type": "markdown",
   "metadata": {
    "deletable": false,
    "nbgrader": {
     "checksum": "cae5873581f8c1e95ad12b5596742e37",
     "grade": true,
     "grade_id": "cell-8a5761555a34b60b",
     "locked": false,
     "points": 0.5,
     "schema_version": 1,
     "solution": true
    }
   },
   "source": [
    "The value 100 is assigned to the name n_observations. Then the folowing piece of code gives us 100 random numbers between 0 and 2 however 2 itsself is excluded and they are given from the uniform distributions so every number is equally likely to be drawn.  These random numbers are denoted by x and these random numbers are put within a data frame. However we can see when looking at the dataframe that is made that there are only 99 observations in 100 rows. This means that the dataframe has only taken 99 numbers and not the complete 100 because 1 place is taken up by the column name.  "
   ]
  },
  {
   "cell_type": "markdown",
   "metadata": {
    "deletable": false,
    "editable": false,
    "nbgrader": {
     "checksum": "30021008cb6073d160066f0435f60950",
     "grade": false,
     "grade_id": "cell-1a9c57d4d1fc34dc",
     "locked": true,
     "schema_version": 1,
     "solution": false
    }
   },
   "source": [
    "Now we are going to add some columns to the dataframe `df`."
   ]
  },
  {
   "cell_type": "markdown",
   "metadata": {
    "deletable": false,
    "editable": false,
    "nbgrader": {
     "checksum": "89171c99b0cc926935c561c0e75d0eef",
     "grade": false,
     "grade_id": "cell-3b8ee172d9950128",
     "locked": true,
     "schema_version": 1,
     "solution": false
    }
   },
   "source": [
    "#### b) [0.5 points] Add two columns to the data frame: (i) column `y` where $y=3*x+5$ and (ii) column `z` where $z = (x-1)^2$."
   ]
  },
  {
   "cell_type": "code",
   "execution_count": 62,
   "metadata": {
    "deletable": false,
    "nbgrader": {
     "checksum": "3b93c97ec42f6da5773b2c6beb2a8ec2",
     "grade": true,
     "grade_id": "cell-a5e7853f661e19b2",
     "locked": false,
     "points": 0.5,
     "schema_version": 1,
     "solution": true
    }
   },
   "outputs": [
    {
     "name": "stdout",
     "output_type": "stream",
     "text": [
      "           x          y         z\n",
      "0   1.521097   9.563292  0.271542\n",
      "1   1.960200  10.880601  0.921985\n",
      "2   0.658137   6.974410  0.116871\n",
      "3   1.463267   9.389801  0.214616\n",
      "4   1.698256  10.094768  0.487561\n",
      "5   0.490193   6.470580  0.259903\n",
      "6   0.034565   5.103696  0.932064\n",
      "7   1.423995   9.271986  0.179772\n",
      "8   0.235038   5.705113  0.585167\n",
      "9   0.244641   5.733923  0.570567\n",
      "10  0.680812   7.042435  0.101881\n",
      "11  0.754784   7.264353  0.060131\n",
      "12  0.119884   5.359651  0.774605\n",
      "13  1.170805   8.512415  0.029174\n",
      "14  0.390907   6.172722  0.370994\n",
      "15  1.415940   9.247819  0.173006\n",
      "16  0.108086   5.324258  0.795511\n",
      "17  1.916282  10.748846  0.839573\n",
      "18  1.150037   8.450112  0.022511\n",
      "19  0.641533   6.924600  0.128498\n",
      "20  0.621438   6.864313  0.143309\n",
      "21  1.559773   9.679318  0.313345\n",
      "22  0.870373   7.611118  0.016803\n",
      "23  1.116295   8.348885  0.013525\n",
      "24  0.238414   5.715243  0.580013\n",
      "25  1.482313   9.446938  0.232626\n",
      "26  1.946432  10.839297  0.895734\n",
      "27  0.443086   6.329258  0.310153\n",
      "28  1.693120  10.079359  0.480415\n",
      "29  1.296337   8.889011  0.087816\n",
      "..       ...        ...       ...\n",
      "70  1.318399   8.955197  0.101378\n",
      "71  0.758452   7.275357  0.058345\n",
      "72  1.806864  10.420592  0.651029\n",
      "73  1.368836   9.106507  0.136040\n",
      "74  0.665642   6.996926  0.111795\n",
      "75  1.050685   8.152055  0.002569\n",
      "76  0.482729   6.448186  0.267570\n",
      "77  0.362779   6.088337  0.406051\n",
      "78  1.730949  10.192846  0.534286\n",
      "79  0.009723   5.029168  0.980649\n",
      "80  0.676148   7.028444  0.104880\n",
      "81  0.776720   7.330159  0.049854\n",
      "82  1.867538  10.602614  0.752622\n",
      "83  1.374979   9.124938  0.140609\n",
      "84  1.891305  10.673916  0.794425\n",
      "85  1.536429   9.609286  0.287756\n",
      "86  1.802907  10.408720  0.644659\n",
      "87  0.736332   7.208997  0.069521\n",
      "88  1.898202  10.694605  0.806766\n",
      "89  1.534013   9.602038  0.285169\n",
      "90  1.971460  10.914379  0.943734\n",
      "91  1.726649  10.179948  0.528019\n",
      "92  0.542862   6.628586  0.208975\n",
      "93  1.433443   9.300329  0.187873\n",
      "94  0.906092   7.718277  0.008819\n",
      "95  0.064487   5.193460  0.875185\n",
      "96  0.180509   5.541526  0.671566\n",
      "97  0.006166   5.018498  0.987706\n",
      "98  1.734622  10.203867  0.539670\n",
      "99  1.317015   8.951044  0.100498\n",
      "\n",
      "[100 rows x 3 columns]\n"
     ]
    }
   ],
   "source": [
    "df = pd.DataFrame({'x': x})\n",
    "y = 3*x + 5\n",
    "z = (x-1)**2\n",
    "df2 = pd.DataFrame({'x': x,\"y\":y,\"z\":z})\n",
    "print(df2)\n",
    "\n",
    "\n"
   ]
  },
  {
   "cell_type": "markdown",
   "metadata": {
    "deletable": false,
    "editable": false,
    "nbgrader": {
     "checksum": "42f4e83dc3792b0d2a08cda8eb7d4405",
     "grade": false,
     "grade_id": "cell-4b33762aa4a601fe",
     "locked": true,
     "schema_version": 1,
     "solution": false
    }
   },
   "source": [
    "#### c) [0.5 point] Calculate the means and standard deviations for `x` and `y`. \n",
    "\n",
    "[hint: you can do this with one command or with four separate commands]"
   ]
  },
  {
   "cell_type": "code",
   "execution_count": 39,
   "metadata": {
    "deletable": false,
    "nbgrader": {
     "checksum": "024a1519155d681b57c85292df535a65",
     "grade": true,
     "grade_id": "cell-5ee215676b91f504",
     "locked": false,
     "points": 0.5,
     "schema_version": 1,
     "solution": true
    }
   },
   "outputs": [
    {
     "name": "stdout",
     "output_type": "stream",
     "text": [
      "0.9662570005130058\n",
      "0.5747337665268075\n",
      "7.898771001539018\n",
      "1.7242012995804226\n"
     ]
    }
   ],
   "source": [
    "print(np.mean(x))\n",
    "print(np.std(x))\n",
    "print(np.mean(y))\n",
    "print(np.std(y))\n"
   ]
  },
  {
   "cell_type": "markdown",
   "metadata": {
    "deletable": false,
    "editable": false,
    "nbgrader": {
     "checksum": "12a2717f05680c0404067457f21dacc5",
     "grade": false,
     "grade_id": "cell-3cc076ae39753881",
     "locked": true,
     "schema_version": 1,
     "solution": false
    }
   },
   "source": [
    "#### d) [0.5 points] Use your knowledge of statistics to explain the relations (i) between the means of `x` and `y` and (ii) between the standard deviations of `x` and `y`."
   ]
  },
  {
   "cell_type": "markdown",
   "metadata": {
    "deletable": false,
    "nbgrader": {
     "checksum": "6ac5f7f87f79a5a580298b70eb6603c6",
     "grade": true,
     "grade_id": "cell-0f18e4fded25833f",
     "locked": false,
     "points": 0.5,
     "schema_version": 1,
     "solution": true
    }
   },
   "source": [
    "The mean of x is quite logical to be around 1 because we have randomly generated numbers between 0 and 2. Because they are randomly generated, approximately 50% is above 1 and 50% is below 1 making the mean, also known as average 1 which comes very close to 0.96625.\n",
    "The mean of y is also quite logical because the formula can have a maximum of 11 (when x is almost equal to 2) and a minimum of approximately 5 ( when x is almost equal to 0). The number in between this is 8. 8 comes very close to the 7.899 that is given by the mean() function. \n",
    "We can also explain this by taking the average of x which is 1 and substituting this into the function. This also gives 8 because Ex(5+3*x) = Ex(5)+3*Ex(x) = 5+3*Ex(x) = 8 because the expectations of x is 1 \n",
    "\n",
    "The standard deviation for a uniformly distributed variable, which x is, is calculated by (2-0)/ Sqr(12) which is: 2 /3.46410 which approximates the standard deviation that we calculated in there, around the 0.5747.\n",
    "For Y this means that this standard deviation can also be substituted into the formula however when calculating the standard deviation, constants disappear making the 5 disappear. What is left of the formula is 3*0.5747 and this is indeed the 1.7242 that the program has calculated. \n",
    "\n",
    "\n"
   ]
  },
  {
   "cell_type": "markdown",
   "metadata": {},
   "source": [
    "#### e) [1 point] Plot a histogram of `x` with fractions (not absolute numbers) on the vertical axis. Add the label $x$ to the horizontal axis."
   ]
  },
  {
   "cell_type": "code",
   "execution_count": 65,
   "metadata": {
    "deletable": false,
    "nbgrader": {
     "checksum": "0f23770a6c058f433beccc75429b57dc",
     "grade": true,
     "grade_id": "cell-e88dc4842fb2c38c",
     "locked": false,
     "points": 1,
     "schema_version": 1,
     "solution": true
    }
   },
   "outputs": [
    {
     "data": {
      "text/plain": [
       "Text(0.5,0,'$x$')"
      ]
     },
     "execution_count": 65,
     "metadata": {},
     "output_type": "execute_result"
    },
    {
     "data": {
      "image/png": "[encoded data removed]",
      "text/plain": [
       "<matplotlib.figure.Figure at 0x1d144ffd160>"
      ]
     },
     "metadata": {},
     "output_type": "display_data"
    }
   ],
   "source": [
    "plt.hist(df2['x'], normed = True)\n",
    "plt.xlabel('$x$')\n"
   ]
  },
  {
   "cell_type": "markdown",
   "metadata": {
    "deletable": false,
    "editable": false,
    "nbgrader": {
     "checksum": "da92092c0fc6badf93776373de6f98c0",
     "grade": false,
     "grade_id": "cell-9847a5147fc6bc0b",
     "locked": true,
     "schema_version": 1,
     "solution": false
    }
   },
   "source": [
    "#### f) [0.5 points] Make a scatter plot of `y` vs `z` with the label $y$ on the horizontal axis and the label $z$ on the vertical axis."
   ]
  },
  {
   "cell_type": "code",
   "execution_count": 50,
   "metadata": {
    "deletable": false,
    "nbgrader": {
     "checksum": "d9385c965608e0babffe255a7d375e19",
     "grade": true,
     "grade_id": "cell-6c036cfb38c024d3",
     "locked": false,
     "points": 0.5,
     "schema_version": 1,
     "solution": true
    }
   },
   "outputs": [
    {
     "data": {
      "text/plain": [
       "Text(0,0.5,'$z$')"
      ]
     },
     "execution_count": 50,
     "metadata": {},
     "output_type": "execute_result"
    },
    {
     "data": {
      "image/png": "[encoded data removed]",
      "text/plain": [
       "<matplotlib.figure.Figure at 0x1d1439c52e8>"
      ]
     },
     "metadata": {},
     "output_type": "display_data"
    }
   ],
   "source": [
    "plt.scatter(y,z)\n",
    "plt.xlabel('$y$')\n",
    "plt.ylabel('$z$')\n"
   ]
  },
  {
   "cell_type": "markdown",
   "metadata": {},
   "source": [
    "This relation looks rather \"perfect\". We want to make a \"noisy\" version of this graph.\n",
    "\n",
    "#### g) [0.5 points] Create a variable `z2` equal to `z` but with some \"noise\" added to it. That is, add a random variable (vector) with mean 0 to `z` to get `z2`. Then plot `y` against `z2`. Adjust the standard deviation of the \"noise\" variable such that the shape of the figure under f) can still be recognized but not perfectly.\n",
    "\n",
    "[hint: under a) you have seen the library that contains functions to create a \"noisy variable\"]"
   ]
  },
  {
   "cell_type": "code",
   "execution_count": 72,
   "metadata": {
    "deletable": false,
    "nbgrader": {
     "checksum": "86b22fc81cb0732c67f8ae691dc00bcb",
     "grade": true,
     "grade_id": "cell-7fa47e5d66a06417",
     "locked": false,
     "points": 0.5,
     "schema_version": 1,
     "solution": true
    }
   },
   "outputs": [
    {
     "data": {
      "text/plain": [
       "<matplotlib.collections.PathCollection at 0x1d1453142b0>"
      ]
     },
     "execution_count": 72,
     "metadata": {},
     "output_type": "execute_result"
    },
    {
     "data": {
      "image/png": "[encoded data removed]",
      "text/plain": [
       "<matplotlib.figure.Figure at 0x1d1452210b8>"
      ]
     },
     "metadata": {},
     "output_type": "display_data"
    }
   ],
   "source": [
    "z2 = z + np.random.uniform(0,z)\n",
    "plt.scatter(y,z2)"
   ]
  },
  {
   "cell_type": "markdown",
   "metadata": {},
   "source": [
    "## Github\n",
    "\n",
    "After you have finished, we need to upload this notebook on github."
   ]
  },
  {
   "cell_type": "markdown",
   "metadata": {},
   "source": [
    "Instructions on how to upload this on github can be found [on this page](http://janboone.github.io/programming-for-economists/github.html). This page has two screencasts: one shows how to drag the notebook onto your github page, the other shows how you can use the command line to upload your notebook.\n"
   ]
  },
  {
   "cell_type": "markdown",
   "metadata": {},
   "source": [
    "Remember to update the README file in your repository to include a link to this notebook on github.\n",
    "\n",
    "\n",
    "The links that you should post start with “github.com/” and are NOT of the form “http://localhost”. Make sure you test your links after uploading."
   ]
  },
  {
   "cell_type": "code",
   "execution_count": null,
   "metadata": {},
   "outputs": [],
   "source": []
  }
 ],
 "metadata": {
  "anaconda-cloud": {},
  "kernelspec": {
   "display_name": "Python 3",
   "language": "python",
   "name": "python3"
  },
  "language_info": {
   "codemirror_mode": {
    "name": "ipython",
    "version": 3
   },
   "file_extension": ".py",
   "mimetype": "text/x-python",
   "name": "python",
   "nbconvert_exporter": "python",
   "pygments_lexer": "ipython3",
   "version": "3.6.4"
  }
 },
 "nbformat": 4,
 "nbformat_minor": 1
}
